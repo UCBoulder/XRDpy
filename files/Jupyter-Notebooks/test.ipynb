{
 "cells": [
  {
   "cell_type": "code",
   "execution_count": 7,
   "metadata": {},
   "outputs": [
    {
     "ename": "TypeError",
     "evalue": "argpartition() missing 1 required positional argument: 'kth'",
     "output_type": "error",
     "traceback": [
      "\u001b[1;31m---------------------------------------------------------------------------\u001b[0m",
      "\u001b[1;31mTypeError\u001b[0m                                 Traceback (most recent call last)",
      "Cell \u001b[1;32mIn[7], line 14\u001b[0m\n\u001b[0;32m     10\u001b[0m     keep_indices \u001b[38;5;241m=\u001b[39m sorted_indices[:\u001b[38;5;28mlen\u001b[39m(arr)\u001b[38;5;241m-\u001b[39mx]\n\u001b[0;32m     11\u001b[0m     \u001b[38;5;28;01mreturn\u001b[39;00m keep_indices\n\u001b[1;32m---> 14\u001b[0m \u001b[38;5;28mprint\u001b[39m(\u001b[38;5;124mf\u001b[39m\u001b[38;5;124m\"\u001b[39m\u001b[38;5;124mremoving \u001b[39m\u001b[38;5;132;01m{\u001b[39;00mx\u001b[38;5;132;01m}\u001b[39;00m\u001b[38;5;124m largest elements are: \u001b[39m\u001b[38;5;132;01m{\u001b[39;00marr[\u001b[43mkeep_these\u001b[49m\u001b[43m(\u001b[49m\u001b[43marr\u001b[49m\u001b[43m,\u001b[49m\u001b[38;5;250;43m \u001b[39;49m\u001b[43mx\u001b[49m\u001b[43m)\u001b[49m]\u001b[38;5;132;01m}\u001b[39;00m\u001b[38;5;124m\"\u001b[39m)\n",
      "Cell \u001b[1;32mIn[7], line 9\u001b[0m, in \u001b[0;36mkeep_these\u001b[1;34m(arr, x)\u001b[0m\n\u001b[0;32m      8\u001b[0m \u001b[38;5;28;01mdef\u001b[39;00m \u001b[38;5;21mkeep_these\u001b[39m(arr, x):\n\u001b[1;32m----> 9\u001b[0m     sorted_indices \u001b[38;5;241m=\u001b[39m \u001b[43mnp\u001b[49m\u001b[38;5;241;43m.\u001b[39;49m\u001b[43margpartition\u001b[49m\u001b[43m(\u001b[49m\u001b[43marr\u001b[49m\u001b[43m)\u001b[49m\n\u001b[0;32m     10\u001b[0m     keep_indices \u001b[38;5;241m=\u001b[39m sorted_indices[:\u001b[38;5;28mlen\u001b[39m(arr)\u001b[38;5;241m-\u001b[39mx]\n\u001b[0;32m     11\u001b[0m     \u001b[38;5;28;01mreturn\u001b[39;00m keep_indices\n",
      "\u001b[1;31mTypeError\u001b[0m: argpartition() missing 1 required positional argument: 'kth'"
     ]
    }
   ],
   "source": [
    "import numpy as np\n",
    "\n",
    "\n",
    "# Example usage\n",
    "arr = np.array([1, 3, 5, 7, 9, 2, 4, 6, 8, 0])\n",
    "x = 2\n",
    "\n",
    "def keep_these(arr, x):\n",
    "    sorted_indices = np.argsort(arr.copy())\n",
    "    keep_indices = sorted_indices[:len(arr)-x]\n",
    "    return keep_indices\n",
    "\n",
    "\n",
    "print(f\"removing {x} largest elements are: {arr[keep_these(arr, x)]}\")"
   ]
  },
  {
   "cell_type": "code",
   "execution_count": null,
   "metadata": {},
   "outputs": [],
   "source": []
  }
 ],
 "metadata": {
  "kernelspec": {
   "display_name": "xrd",
   "language": "python",
   "name": "python3"
  },
  "language_info": {
   "codemirror_mode": {
    "name": "ipython",
    "version": 3
   },
   "file_extension": ".py",
   "mimetype": "text/x-python",
   "name": "python",
   "nbconvert_exporter": "python",
   "pygments_lexer": "ipython3",
   "version": "3.11.7"
  }
 },
 "nbformat": 4,
 "nbformat_minor": 2
}
