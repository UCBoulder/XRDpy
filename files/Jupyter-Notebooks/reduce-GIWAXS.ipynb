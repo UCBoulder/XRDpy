{
 "cells": [
  {
   "cell_type": "markdown",
   "metadata": {},
   "source": [
    "# Reduce GIWAXS Transformation"
   ]
  },
  {
   "cell_type": "code",
   "execution_count": null,
   "metadata": {},
   "outputs": [],
   "source": [
    "from pathlib import Path\n",
    "import pyFAI\n",
    "import fabio\n",
    "import numpy as np\n",
    "import yaml\n",
    "import matplotlib.pylab as plt\n",
    "from matplotlib.colors import LogNorm\n",
    "import matplotlib\n",
    "matplotlib.rcParams['mathtext.fontset'] = 'cm'\n",
    "matplotlib.rcParams['font.family'] = 'STIXGeneral'\n",
    "\n",
    "FIG_SIZE = (7.5, 3.75)\n",
    "\n",
    "raw_stitch = fabio.open(\"image-transformed.tif\").data.astype(np.float64)\n",
    "flat_field = fabio.open(\"flat-field-transformed.tif\").data.astype(np.float64)\n",
    "with open(\"params.yaml\", \"r\") as yf:\n",
    "    params = yaml.safe_load(yf)\n",
    "    exposure_time = params[\"exposure\"]\n",
    "    incident_angle = params[\"incident\"]\n",
    "    try:\n",
    "        tilt_angle = params[\"tilt\"]\n",
    "    except KeyError:\n",
    "        tilt_angle = 0\n",
    "if tilt_angle is None:\n",
    "    titl_angle = 0\n",
    "print(f\"Exposure time  = {exposure_time} s / (2 images)\")\n",
    "print(f\"incident angle = {incident_angle} degrees\")\n",
    "print(f\"tilt angle     = {tilt_angle} degrees\")\n",
    "\n",
    "print('Generated \"fake\" flat field from exposure time at each pixel')\n",
    "\n",
    "fig = plt.figure(figsize=FIG_SIZE, facecolor=\"w\")\n",
    "ax1 = plt.subplot()\n",
    "pos = ax1.imshow(raw_stitch, norm=LogNorm(1, np.max(raw_stitch)))\n",
    "ax1.set_title(\"Transformed image\")\n",
    "ax1.set_xlabel(\"column (pixels)\")\n",
    "ax1.set_ylabel(\"row (pixels)\")\n",
    "fig.colorbar(pos, ax=ax1, shrink=0.7)\n",
    "\n",
    "fig = plt.figure(figsize=FIG_SIZE, facecolor=\"w\")\n",
    "ax1 = plt.subplot()\n",
    "pos = ax1.imshow(flat_field * exposure_time)\n",
    "ax1.set_title(\"Exposure time per pixel (s)\")\n",
    "ax1.set_xlabel(\"column (pixels)\")\n",
    "ax1.set_ylabel(\"row (pixels)\")\n",
    "fig.colorbar(pos, ax=ax1, shrink=0.7)"
   ]
  },
  {
   "cell_type": "markdown",
   "metadata": {},
   "source": [
    "## Adust pixel weights for presentation of stitch"
   ]
  },
  {
   "cell_type": "code",
   "execution_count": null,
   "metadata": {},
   "outputs": [],
   "source": [
    "adjusted_stitch = raw_stitch / flat_field\n",
    "adjusted_stitch[np.where(adjusted_stitch == np.infty)] = 0\n",
    "adjusted_stitch = np.nan_to_num(adjusted_stitch)\n",
    "print(adjusted_stitch.max())\n",
    "\n",
    "fig = plt.figure(figsize=FIG_SIZE, facecolor=\"w\")\n",
    "ax1 = plt.subplot()\n",
    "pos = ax1.imshow(adjusted_stitch, norm=LogNorm(1, np.max(adjusted_stitch)))\n",
    "ax1.set_title(\"Transformed image with exposure times adusted\")\n",
    "ax1.set_xlabel(\"column (pixels)\")\n",
    "ax1.set_ylabel(\"row (pixels)\")\n",
    "fig.colorbar(pos, ax=ax1, shrink=0.7)\n",
    "plt.savefig(\"stitch.png\", dpi=1000)"
   ]
  },
  {
   "cell_type": "markdown",
   "metadata": {},
   "source": [
    "## Create Cake and reduce data\n",
    "You must have a `cal-transformed.poni` file. This should have automatically been generated\n",
    "\n",
    "You can create a mask using pyFAI-calib2 GUI"
   ]
  },
  {
   "cell_type": "code",
   "execution_count": null,
   "metadata": {},
   "outputs": [],
   "source": [
    "ai = pyFAI.load(\"cal-transformed.poni\")\n",
    "print(\"Loaded geometry:\")\n",
    "print(ai)\n",
    "print(\"\")\n",
    "\n",
    "try:\n",
    "    mask = fabio.open(\"mask.edf\").data.astype(bool)\n",
    "    print(\"Used mask\")\n",
    "except FileNotFoundError:\n",
    "    mask = np.zeros(raw_stitch.shape)\n",
    "    print(\"Did not load mask, you can create one using pyFAI-calib2\")\n",
    "\n",
    "\"\"\"Mask pixels that have 0 in the flat field\"\"\"\n",
    "mask = np.logical_or(mask, np.logical_not(flat_field))"
   ]
  },
  {
   "cell_type": "markdown",
   "metadata": {},
   "source": [
    "#### Create Cake"
   ]
  },
  {
   "cell_type": "code",
   "execution_count": null,
   "metadata": {},
   "outputs": [],
   "source": [
    "q_bins = 500\n",
    "azimuthal_bins = 180\n",
    "cake = ai.integrate2d_ng(\n",
    "    raw_stitch, q_bins, azimuthal_bins,\n",
    "    radial_range=None,          # In units specified below\n",
    "    azimuth_range=(180, 360),   # this is 0 to 180 from the right going counter-clockwise\n",
    "    mask=mask, flat=flat_field,\n",
    "    error_model=\"poisson\",  unit=\"q_A^-1\",\n",
    "    polarization_factor=None, correctSolidAngle=False,\n",
    ")"
   ]
  },
  {
   "cell_type": "code",
   "execution_count": null,
   "metadata": {},
   "outputs": [],
   "source": [
    "fig = plt.figure(figsize=(5, 3), facecolor=\"w\")\n",
    "ax1 = plt.subplot()\n",
    "pos = ax1.imshow(cake[0], norm=LogNorm(1, np.max(cake[0])),\n",
    "                 extent=(np.min(cake[1]), np.max(cake[1]), 0, 180),\n",
    "                 aspect='auto')\n",
    "ax1.set_title(\"Cake\")\n",
    "ax1.set_xlabel(r\"$q\\ (\\mathregular{\\AA}^{-1})$\")\n",
    "ax1.set_ylabel(r\"$\\psi$ (degrees)\")\n",
    "ax1.set_yticks(np.arange(0, 181, 20))\n",
    "ax1.yaxis.set_minor_locator(matplotlib.ticker.AutoMinorLocator())\n",
    "# ax1.set_xticks(np.arange(0, np.min(cake[1]) + np.max(cake[1]), 0.5))\n",
    "ax1.xaxis.set_minor_locator(matplotlib.ticker.AutoMinorLocator())\n",
    "fig.colorbar(pos, ax=ax1)\n",
    "plt.savefig(\"cake.png\", dpi=1000, bbox_inches=\"tight\")"
   ]
  },
  {
   "cell_type": "markdown",
   "metadata": {},
   "source": [
    "#### Create Reduction"
   ]
  },
  {
   "cell_type": "code",
   "execution_count": null,
   "metadata": {},
   "outputs": [],
   "source": [
    "q_bins = 1000\n",
    "file_to_save = \"reduction.edf\"\n",
    "if (Path.cwd() / file_to_save).is_file():\n",
    "    (Path.cwd() / file_to_save).unlink()\n",
    "\n",
    "redu = ai.integrate1d_ng(\n",
    "    raw_stitch, q_bins,\n",
    "    radial_range=None,          # In units specified below\n",
    "    azimuth_range=(180, 360),   # this is 0 to 180 from the right going counter-clockwise\n",
    "    mask=mask, flat=flat_field, error_model=\"poisson\",\n",
    "    unit=\"q_A^-1\", filename=\"reduction.edf\", normalization_factor=(exposure_time / 60)\n",
    ")"
   ]
  },
  {
   "cell_type": "code",
   "execution_count": null,
   "metadata": {},
   "outputs": [],
   "source": [
    "plt.figure(figsize=(4, 3))\n",
    "ax2 = plt.subplot()\n",
    "\n",
    "ax2.scatter(\n",
    "    redu[0], redu[1],\n",
    "    s=5,  # marker size\n",
    "    marker=\"o\",  # marker shape\n",
    "    edgecolors=\"black\",  # marker edge color\n",
    "    lw=.75,  # marker edge width\n",
    "    alpha=1,  # transparency\n",
    "    facecolor='w'  # marker face color\n",
    ")\n",
    "\n",
    "ax2.set_title(\"Reduction\")\n",
    "ax2.xaxis.set_minor_locator(matplotlib.ticker.AutoMinorLocator())\n",
    "# ax2.set_xticks(np.arange(0, np.min(redu[0]) + np.max(redu[0]), 0.5))\n",
    "ax2.yaxis.set_minor_locator(matplotlib.ticker.AutoMinorLocator())\n",
    "ax2.set_xlabel(r\"$q\\ (\\mathregular{\\AA}^{-1})$\")\n",
    "ax2.grid()\n",
    "ax2.set_ylabel(r\"Intensity rate (counts / (min $\\cdot$ projected pixel area)\")\n",
    "ax2.set_yscale(\"log\")\n",
    "plt.savefig(\"reduction.png\", dpi=1000, bbox_inches=\"tight\")"
   ]
  }
 ],
 "metadata": {
  "language_info": {
   "name": "python"
  }
 },
 "nbformat": 4,
 "nbformat_minor": 2
}
