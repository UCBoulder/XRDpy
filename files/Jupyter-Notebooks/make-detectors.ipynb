{
 "cells": [
  {
   "cell_type": "code",
   "execution_count": null,
   "metadata": {},
   "outputs": [
    {
     "ename": "",
     "evalue": "",
     "output_type": "error",
     "traceback": [
      "\u001b[1;31mRunning cells with 'xrd (Python 3.11.10)' requires the ipykernel package.\n",
      "\u001b[1;31mRun the following command to install 'ipykernel' into the Python environment. \n",
      "\u001b[1;31mCommand: 'conda install -n xrd ipykernel --update-deps --force-reinstall'"
     ]
    }
   ],
   "source": [
    "from pyFAI.detectors import Detector\n",
    "\n",
    "sizes = ((1102, 1030), (1102, 2050), (1102, 3070),\n",
    "         (2194, 1030), (2194, 2050), (2194, 3070))\n",
    "names = (\"1-1\", \"1-2\", \"1-3\", \"2-1\", \"2-2\", \"2-3\")\n",
    "\n",
    "for size, name in zip(sizes, names):\n",
    "    detector = Detector(pixel1=75e-6, pixel2=75e-6, max_shape=size, orientation=2)\n",
    "    detector.save(f\"../Detectors/eiger_stitch_{name}.h5\")\n",
    "\n",
    "\n"
   ]
  },
  {
   "cell_type": "code",
   "execution_count": null,
   "metadata": {},
   "outputs": [],
   "source": []
  }
 ],
 "metadata": {
  "kernelspec": {
   "display_name": "test2",
   "language": "python",
   "name": "python3"
  },
  "language_info": {
   "codemirror_mode": {
    "name": "ipython",
    "version": 3
   },
   "file_extension": ".py",
   "mimetype": "text/x-python",
   "name": "python",
   "nbconvert_exporter": "python",
   "pygments_lexer": "ipython3",
   "version": "3.12.7"
  }
 },
 "nbformat": 4,
 "nbformat_minor": 2
}
