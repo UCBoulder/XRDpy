{
 "cells": [
  {
   "cell_type": "code",
   "execution_count": 4,
   "metadata": {},
   "outputs": [
    {
     "ename": "AttributeError",
     "evalue": "module 'pyFAI' has no attribute 'detectors'",
     "output_type": "error",
     "traceback": [
      "\u001b[1;31m---------------------------------------------------------------------------\u001b[0m",
      "\u001b[1;31mAttributeError\u001b[0m                            Traceback (most recent call last)",
      "Cell \u001b[1;32mIn[4], line 8\u001b[0m\n\u001b[0;32m      5\u001b[0m names \u001b[38;5;241m=\u001b[39m (\u001b[38;5;124m\"\u001b[39m\u001b[38;5;124m1-1\u001b[39m\u001b[38;5;124m\"\u001b[39m, \u001b[38;5;124m\"\u001b[39m\u001b[38;5;124m1-2\u001b[39m\u001b[38;5;124m\"\u001b[39m, \u001b[38;5;124m\"\u001b[39m\u001b[38;5;124m1-3\u001b[39m\u001b[38;5;124m\"\u001b[39m, \u001b[38;5;124m\"\u001b[39m\u001b[38;5;124m2-1\u001b[39m\u001b[38;5;124m\"\u001b[39m, \u001b[38;5;124m\"\u001b[39m\u001b[38;5;124m2-2\u001b[39m\u001b[38;5;124m\"\u001b[39m, \u001b[38;5;124m\"\u001b[39m\u001b[38;5;124m2-3\u001b[39m\u001b[38;5;124m\"\u001b[39m)\n\u001b[0;32m      7\u001b[0m \u001b[38;5;28;01mfor\u001b[39;00m size, name \u001b[38;5;129;01min\u001b[39;00m \u001b[38;5;28mzip\u001b[39m(sizes, names):\n\u001b[1;32m----> 8\u001b[0m     detector \u001b[38;5;241m=\u001b[39m \u001b[43mpyFAI\u001b[49m\u001b[38;5;241;43m.\u001b[39;49m\u001b[43mdetectors\u001b[49m\u001b[38;5;241m.\u001b[39mEiger1M(pixel1\u001b[38;5;241m=\u001b[39m\u001b[38;5;241m75e-6\u001b[39m, pixel2\u001b[38;5;241m=\u001b[39m\u001b[38;5;241m75e-6\u001b[39m, max_shape\u001b[38;5;241m=\u001b[39msize, orientation\u001b[38;5;241m=\u001b[39m\u001b[38;5;241m2\u001b[39m)\n\u001b[0;32m      9\u001b[0m     detector\u001b[38;5;241m.\u001b[39msave(\u001b[38;5;124mf\u001b[39m\u001b[38;5;124m\"\u001b[39m\u001b[38;5;124m../Detectors/eiger_stitch_\u001b[39m\u001b[38;5;132;01m{\u001b[39;00mname\u001b[38;5;132;01m}\u001b[39;00m\u001b[38;5;124m.h5\u001b[39m\u001b[38;5;124m\"\u001b[39m)\n",
      "\u001b[1;31mAttributeError\u001b[0m: module 'pyFAI' has no attribute 'detectors'"
     ]
    }
   ],
   "source": [
    "from pyFAI.detectors import Detector\n",
    "\n",
    "sizes = ((1102, 1030), (1102, 2050), (1102, 3070),\n",
    "         (2194, 1030), (2194, 2050), (2194, 3070))\n",
    "names = (\"1-1\", \"1-2\", \"1-3\", \"2-1\", \"2-2\", \"2-3\")\n",
    "\n",
    "for size, name in zip(sizes, names):\n",
    "    detector = Detector(pixel1=75e-6, pixel2=75e-6, max_shape=size, orientation=2)\n",
    "    detector.save(f\"../Detectors/eiger_stitch_{name}.h5\")\n",
    "\n",
    "\n"
   ]
  },
  {
   "cell_type": "code",
   "execution_count": null,
   "metadata": {},
   "outputs": [],
   "source": []
  }
 ],
 "metadata": {
  "kernelspec": {
   "display_name": "xrd",
   "language": "python",
   "name": "python3"
  },
  "language_info": {
   "codemirror_mode": {
    "name": "ipython",
    "version": 3
   },
   "file_extension": ".py",
   "mimetype": "text/x-python",
   "name": "python",
   "nbconvert_exporter": "python",
   "pygments_lexer": "ipython3",
   "version": "3.11.7"
  }
 },
 "nbformat": 4,
 "nbformat_minor": 2
}
