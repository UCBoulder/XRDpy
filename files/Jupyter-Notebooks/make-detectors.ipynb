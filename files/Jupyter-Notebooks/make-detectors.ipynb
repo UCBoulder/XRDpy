{
 "cells": [
  {
   "cell_type": "code",
   "execution_count": 10,
   "metadata": {},
   "outputs": [],
   "source": [
    "import pyFAI\n",
    "\n",
    "sizes = ((1102, 1030), (1102, 2050), (1102, 3070),\n",
    "         (2194, 1030), (2194, 2050), (2194, 3070))\n",
    "names = (\"1-1\", \"1-2\", \"1-3\", \"2-1\", \"2-2\", \"2-3\")\n",
    "\n",
    "for size, name in zip(sizes, names):\n",
    "    detector = pyFAI.detectors.Eiger1M(pixel1=75e-6, pixel2=75e-6, max_shape=size, orientation=2)\n",
    "    detector.save(f\"../Detectors/eiger_stitch_{name}.h5\")\n",
    "\n",
    "\n"
   ]
  }
 ],
 "metadata": {
  "kernelspec": {
   "display_name": "xrd",
   "language": "python",
   "name": "python3"
  },
  "language_info": {
   "codemirror_mode": {
    "name": "ipython",
    "version": 3
   },
   "file_extension": ".py",
   "mimetype": "text/x-python",
   "name": "python",
   "nbconvert_exporter": "python",
   "pygments_lexer": "ipython3",
   "version": "3.11.7"
  }
 },
 "nbformat": 4,
 "nbformat_minor": 2
}
