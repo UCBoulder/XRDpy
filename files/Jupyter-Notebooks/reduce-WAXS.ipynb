{
 "cells": [
  {
   "cell_type": "markdown",
   "metadata": {},
   "source": [
    "# Reduce WAXS"
   ]
  },
  {
   "cell_type": "code",
   "execution_count": null,
   "metadata": {},
   "outputs": [],
   "source": [
    "from pathlib import Path\n",
    "import pyFAI\n",
    "import fabio\n",
    "import numpy as np\n",
    "import yaml\n",
    "import matplotlib.pylab as plt\n",
    "from matplotlib.colors import LogNorm\n",
    "import matplotlib\n",
    "matplotlib.rcParams['mathtext.fontset'] = 'cm'\n",
    "matplotlib.rcParams['font.family'] = 'STIXGeneral'\n",
    "# need `pip install ipympl` and `jupyter nbextension enable --py widgetsnbextension\n",
    "#%matplotlib widget \n",
    "\n",
    "\n",
    "title = \"\"  # adds this to the title of plots\n",
    "\n",
    "IM_SIZE = (6.3, 3)  # inches\n",
    "\n",
    "raw_stitch = fabio.open(\"raw-stitched-data.tif\").data.astype(np.float64)\n",
    "flat_field = fabio.open(\"flat-field.tif\").data.astype(np.float64)\n",
    "with open(\"params.yaml\", \"r\") as yf:\n",
    "    params = yaml.safe_load(yf)\n",
    "    exposure_time = params[\"exposure\"]\n",
    "print(f\"Exposure time  = {exposure_time} s / (2 images)\")\n",
    "\n",
    "print('Generated \"fake\" flat field from exposure time at each pixel')\n",
    "\n",
    "fig, ax = plt.subplots(1, 1, figsize=IM_SIZE, facecolor=\"w\")\n",
    "pos = ax.imshow(raw_stitch, norm=LogNorm(1, np.max(raw_stitch)))\n",
    "ax.set_title(\"Stitched image\")\n",
    "ax.set_xlabel(\"column (pixels)\")\n",
    "ax.set_ylabel(\"row (pixels)\")\n",
    "fig.colorbar(pos, ax=ax, shrink=0.7, label=\"counts\")\n",
    "fig.tight_layout()\n",
    "\n",
    "fig = plt.figure(figsize=IM_SIZE, facecolor=\"w\")\n",
    "ax1 = plt.subplot()\n",
    "pos = ax1.imshow(flat_field * exposure_time)\n",
    "ax1.set_title(\"Exposure time per pixel\")\n",
    "ax1.set_xlabel(\"column (pixels)\")\n",
    "ax1.set_ylabel(\"row (pixels)\")\n",
    "fig.colorbar(pos, ax=ax1, shrink=0.7, label=\"exposure time (s)\")\n",
    "fig.tight_layout()"
   ]
  },
  {
   "cell_type": "markdown",
   "metadata": {},
   "source": [
    "# Load PONI file\n",
    "\n",
    "You must have a `cal.poni` file. This can be made using pyFAI-calib2 GUI\n",
    "\n",
    "You can create a mask using pyFAI-calib2 GUI"
   ]
  },
  {
   "cell_type": "code",
   "execution_count": null,
   "metadata": {},
   "outputs": [],
   "source": [
    "ai = pyFAI.load(\"cal.poni\")\n",
    "print(\"Loaded geometry:\")\n",
    "print(ai)\n",
    "print(\"\")\n",
    "\n",
    "try:\n",
    "    mask = fabio.open(\"mask.edf\").data.astype(bool)\n",
    "    print(\"Used mask\")\n",
    "except FileNotFoundError:\n",
    "    mask = np.zeros(raw_stitch.shape)\n",
    "    print(\"Did not load mask, you can create one using pyFAI-calib2\")\n",
    "\n",
    "\"\"\"Mask pixels that have 0 in the flat field\"\"\"\n",
    "mask = np.logical_or(mask, np.logical_not(flat_field))"
   ]
  },
  {
   "cell_type": "markdown",
   "metadata": {},
   "source": [
    "## Adust pixel weights\n",
    "\n",
    "Also adjust PONI (beam center) by nudging `poni1` and `poni2`"
   ]
  },
  {
   "cell_type": "code",
   "execution_count": null,
   "metadata": {},
   "outputs": [],
   "source": [
    "adjusted_stitch = raw_stitch / flat_field\n",
    "adjusted_stitch[np.where(adjusted_stitch == np.infty)] = 0\n",
    "adjusted_stitch = np.nan_to_num(adjusted_stitch)\n",
    "print(adjusted_stitch.max())\n",
    "\n",
    "fig, ax = plt.subplots(1, 1, figsize=IM_SIZE, facecolor=\"w\")\n",
    "ax.set_facecolor(\"black\")\n",
    "pos = ax.imshow(adjusted_stitch, norm=LogNorm(1, np.max(adjusted_stitch)))\n",
    "\n",
    "poni1 = ai.poni1 - 1 * ai.pixel1\n",
    "poni2 = ai.poni2 + 5 * ai.pixel2\n",
    "\n",
    "fig_title = \"Stitched image with flat field correction\"\n",
    "if title:\n",
    "    fig_title = title + \"\\n\" + fig_title\n",
    "ax.set_title(fig_title)\n",
    "ax.set_xlabel(\"column (pixels)\")\n",
    "ax.set_ylabel(\"row (pixels)\")\n",
    "fig.colorbar(pos, ax=ax1, shrink=0.7)\n",
    "fig.tight_layout()\n",
    "fig.savefig(f\"{title}-stitch.png\".lstrip(\"-\"), dpi=600, bbox_inches=\"tight\")\n",
    "\n",
    "ax.scatter(poni2 / ai.pixel2 - 0.5, ai.detector.shape[0] - poni1 / ai.pixel1 + 0.5, s=30, color=\"r\")\n",
    "ax.scatter(poni2 / ai.pixel2 - 0.5, ai.detector.shape[0] - poni1 / ai.pixel1 + 0.5, s=30000, lw=.33, edgecolors=\"red\", facecolors=\"None\")"
   ]
  },
  {
   "cell_type": "markdown",
   "metadata": {},
   "source": [
    "Save the new PONI."
   ]
  },
  {
   "cell_type": "code",
   "execution_count": 4,
   "metadata": {},
   "outputs": [],
   "source": [
    "ai.poni1 = poni1\n",
    "ai.poni2 = poni2"
   ]
  },
  {
   "cell_type": "markdown",
   "metadata": {},
   "source": [
    "## Create Cake and reduce data"
   ]
  },
  {
   "cell_type": "markdown",
   "metadata": {},
   "source": [
    "#### Create Cake"
   ]
  },
  {
   "cell_type": "code",
   "execution_count": null,
   "metadata": {},
   "outputs": [],
   "source": [
    "q_bins = 500\n",
    "azimuthal_bins = 180\n",
    "\n",
    "ai.rot3 = .5 * np.pi\n",
    "\n",
    "cake = ai.integrate2d_ng(\n",
    "    raw_stitch, q_bins, azimuthal_bins,\n",
    "    radial_range=None,   # In units specified below\n",
    "    azimuth_range=None,  # Start from 180 degrees to start from the axis to the right\n",
    "    mask=mask, flat=flat_field,\n",
    "    error_model=\"poisson\",  unit=\"q_A^-1\",\n",
    "    polarization_factor=None, correctSolidAngle=False,\n",
    ")\n",
    "\n",
    "psi = cake[2]# + 180\n",
    "# cake_image = np.concatenate((cake[0][int(azimuthal_bins/2):], cake[0][:int(azimuthal_bins/2)]), axis=0)\n",
    "cake_image = cake[0][::-1]\n",
    "\n",
    "# ax = jupyter.plot2d(cake)\n",
    "\n",
    "fig, ax = plt.subplots(1, 1, figsize=(4, 3))\n",
    "ax.set_facecolor(\"k\")\n",
    "pos = ax.imshow(cake_image, norm=LogNorm(1, np.max(cake[0])),\n",
    "                extent=(np.min(cake[1]), np.max(cake[1]), np.min(psi), np.max(psi)),\n",
    "                aspect='auto')\n",
    "fig_title = \"Cake\"\n",
    "if title:\n",
    "    fig_title = title + \"\\n\" + fig_title\n",
    "ax.set_title(fig_title)\n",
    "ax.set_xlabel(r\"$q\\ (\\mathregular{\\AA}^{-1})$\")\n",
    "ax.set_ylabel(r\"$\\psi\\ (\\degree)$\")\n",
    "ax.set_yticks(np.arange(-180, 181, 30))\n",
    "ax.yaxis.set_minor_locator(matplotlib.ticker.AutoMinorLocator())\n",
    "# ax.set_xticks(np.arange(0, np.min(cake[1]) + np.max(cake[1]), 0.5))\n",
    "ax.xaxis.set_minor_locator(matplotlib.ticker.AutoMinorLocator())\n",
    "fig.colorbar(pos, ax=ax)\n",
    "fig.tight_layout()\n",
    "fig.savefig(f\"{title}-cake.png\".lstrip(\"-\"), dpi=600, bbox_inches=\"tight\")\n",
    "\n",
    "# inspect cake with a line\n",
    "ax.axvline(1.5, color=\"r\", linestyle='--', linewidth=.5)"
   ]
  },
  {
   "cell_type": "markdown",
   "metadata": {},
   "source": [
    "#### Create reduction"
   ]
  },
  {
   "cell_type": "code",
   "execution_count": null,
   "metadata": {},
   "outputs": [],
   "source": [
    "q_range = None\n",
    "q_bins = 1000\n",
    "file_to_save = \"reduction.edf\"\n",
    "if (Path.cwd() / file_to_save).is_file():\n",
    "    (Path.cwd() / file_to_save).unlink()\n",
    "redu = ai.integrate1d_ng(\n",
    "    raw_stitch, q_bins, \n",
    "    radial_range=q_range,   # In units specified below\n",
    "    azimuth_range=None,  # Start from 180 degrees to start from the axis to the right\n",
    "    mask=mask, flat=flat_field, error_model=\"poisson\",\n",
    "    unit=\"q_A^-1\", filename=f\"{title}-reduction.edf\".lstrip(\"-\"), normalization_factor=(exposure_time / 60)\n",
    ")\n",
    "\n",
    "fig, ax = plt.subplots(1, 1, figsize=(4, 3))\n",
    "\n",
    "ax.scatter(\n",
    "    redu[0], redu[1],\n",
    "    s=5,  # marker size\n",
    "    marker=\"o\",  # marker shape\n",
    "    edgecolors=\"black\",  # marker edge color\n",
    "    lw=.75,  # marker edge width\n",
    "    alpha=1,  # transparency\n",
    "    facecolor='w'  # marker face color\n",
    ")\n",
    "\n",
    "fig_title = \"Reduction\"\n",
    "if title:\n",
    "    fig_title = title + \"\\n\" + fig_title\n",
    "ax.set_title(fig_title)\n",
    "ax.xaxis.set_minor_locator(matplotlib.ticker.AutoMinorLocator())\n",
    "# ax.set_xticks(np.arange(0, np.min(redu[0]) + np.max(redu[0]), 0.5))\n",
    "ax.yaxis.set_minor_locator(matplotlib.ticker.AutoMinorLocator())\n",
    "ax.set_xlabel(r\"$q\\ (\\mathregular{\\AA}^{-1})$\")\n",
    "ax.grid(linestyle='dotted')\n",
    "ax.set_ylabel(r\"Intensity (counts / (min $\\cdot$ projected pixel area)\")\n",
    "ax.set_yscale(\"log\")\n",
    "ax.tick_params(axis='both', which='both', direction='in', right=True, top=True)\n",
    "fig.savefig(f\"{title}-reduction.png\".lstrip(\"-\"), dpi=900, bbox_inches=\"tight\")"
   ]
  }
 ],
 "metadata": {
  "kernelspec": {
   "display_name": "xrd",
   "language": "python",
   "name": "python3"
  },
  "language_info": {
   "codemirror_mode": {
    "name": "ipython",
    "version": 3
   },
   "file_extension": ".py",
   "mimetype": "text/x-python",
   "name": "python",
   "nbconvert_exporter": "python",
   "pygments_lexer": "ipython3",
   "version": "3.11.7"
  }
 },
 "nbformat": 4,
 "nbformat_minor": 2
}
