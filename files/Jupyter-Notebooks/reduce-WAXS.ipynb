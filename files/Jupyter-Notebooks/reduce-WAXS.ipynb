{
 "cells": [
  {
   "cell_type": "markdown",
   "metadata": {},
   "source": [
    "# Reduce WAXS"
   ]
  },
  {
   "cell_type": "code",
   "execution_count": null,
   "metadata": {},
   "outputs": [],
   "source": [
    "from pathlib import Path\n",
    "import pyFAI\n",
    "import fabio\n",
    "import numpy as np\n",
    "import yaml\n",
    "import matplotlib.pylab as plt\n",
    "from matplotlib.colors import LogNorm\n",
    "import matplotlib\n",
    "matplotlib.rcParams['mathtext.fontset'] = 'stix'\n",
    "matplotlib.rcParams['font.family'] = 'STIXGeneral'\n",
    "\n",
    "FIG_SIZE = (7.5, 3.75)\n",
    "\n",
    "raw_stitch = fabio.open(\"raw-stitched-data.tif\").data.astype(np.float64)\n",
    "time_pixel = fabio.open(\"stitched-exposure-time.tif\").data.astype(np.float64)\n",
    "with open(\"params.yaml\", \"r\") as yf:\n",
    "    params = yaml.safe_load(yf)\n",
    "    exposure_time = params[\"exposure\"]\n",
    "print(f\"Exposure time  = {exposure_time} s / (2 images)\")\n",
    "\n",
    "fig = plt.figure(figsize=FIG_SIZE, facecolor=\"w\")\n",
    "ax1 = plt.subplot()\n",
    "pos = ax1.imshow(raw_stitch, norm=LogNorm(1, np.max(raw_stitch)))\n",
    "ax1.set_title(\"Transformed image\")\n",
    "ax1.set_xlabel(\"column (pixels)\")\n",
    "ax1.set_ylabel(\"row (pixels)\")\n",
    "fig.colorbar(pos, ax=ax1, shrink=0.7)\n",
    "\n",
    "fig = plt.figure(figsize=FIG_SIZE, facecolor=\"w\")\n",
    "ax1 = plt.subplot()\n",
    "pos = ax1.imshow(time_pixel)\n",
    "ax1.set_title(\"Exposure time per pixel (s)\")\n",
    "ax1.set_xlabel(\"column (pixels)\")\n",
    "ax1.set_ylabel(\"row (pixels)\")\n",
    "fig.colorbar(pos, ax=ax1, shrink=0.7)"
   ]
  },
  {
   "cell_type": "markdown",
   "metadata": {},
   "source": [
    "## Adust pixel weights"
   ]
  },
  {
   "cell_type": "code",
   "execution_count": null,
   "metadata": {},
   "outputs": [],
   "source": [
    "data = raw_stitch * exposure_time / time_pixel\n",
    "data[np.where(data == np.infty)] = 0\n",
    "data = np.nan_to_num(data)\n",
    "print(data.max())\n",
    "\n",
    "fig = plt.figure(figsize=FIG_SIZE, facecolor=\"w\")\n",
    "ax1 = plt.subplot()\n",
    "pos = ax1.imshow(data, norm=LogNorm(1, np.max(data)))\n",
    "ax1.set_title(\"Transformed image with exposure times adusted\")\n",
    "ax1.set_xlabel(\"column (pixels)\")\n",
    "ax1.set_ylabel(\"row (pixels)\")\n",
    "fig.colorbar(pos, ax=ax1, shrink=0.7)\n",
    "plt.savefig(\"stitch.png\", dpi=1000)"
   ]
  },
  {
   "cell_type": "markdown",
   "metadata": {},
   "source": [
    "## Create Cake and reduce data\n",
    "You must have a `cal-transformed.poni` file. This can be made using pyFAI-calib2 GUI\n",
    "\n",
    "You can create a mask using pyFAI-calib2 GUI"
   ]
  },
  {
   "cell_type": "code",
   "execution_count": null,
   "metadata": {},
   "outputs": [],
   "source": [
    "ai = pyFAI.load(\"cal.poni\")\n",
    "\n",
    "try:\n",
    "    mask = fabio.open(\"mask.edf\").data.astype(bool)\n",
    "    print(\"Used mask\")\n",
    "except FileNotFoundError:\n",
    "    mask = None\n",
    "    print(\"Did not load mask, you can create one using pyFAI-calib2\")\n",
    "\n",
    "q_bins = 1000\n",
    "azimuthal_bins = 1800\n",
    "cake = ai.integrate2d_ng(data, q_bins, azimuthal_bins, mask=mask, unit=\"q_A^-1\")\n",
    "\n",
    "q_bins = 5000\n",
    "redu = ai.integrate1d_ng(data, q_bins, mask=mask, unit=\"q_A^-1\", filename=\"reduction.edf\")"
   ]
  },
  {
   "cell_type": "markdown",
   "metadata": {},
   "source": [
    "## Plot reductions"
   ]
  },
  {
   "cell_type": "code",
   "execution_count": null,
   "metadata": {},
   "outputs": [],
   "source": [
    "fig = plt.figure(figsize=(5, 3), facecolor=\"w\")\n",
    "ax1 = plt.subplot()\n",
    "pos = ax1.imshow(cake[0], norm=LogNorm(1, np.max(cake[0])),\n",
    "                 extent=(np.min(cake[1]), np.max(cake[1]), 360, 0),\n",
    "                 aspect='auto')\n",
    "ax1.set_title(\"Cake\")\n",
    "ax1.set_xlabel(r\"$q\\ (\\mathregular{\\AA}^{-1})$\")\n",
    "ax1.set_ylabel(r\"$\\psi$ (degrees)\")\n",
    "ax1.set_yticks(np.arange(0, 361, 40))\n",
    "ax1.yaxis.set_minor_locator(matplotlib.ticker.AutoMinorLocator())\n",
    "# ax1.set_xticks(np.arange(0, np.min(cake[1]) + np.max(cake[1]), 0.5))\n",
    "ax1.xaxis.set_minor_locator(matplotlib.ticker.AutoMinorLocator())\n",
    "fig.colorbar(pos, ax=ax1)\n",
    "plt.savefig(\"cake.png\", dpi=1000, bbox_inches=\"tight\")\n",
    "\n",
    "plt.figure(figsize=(4, 3))\n",
    "ax2 = plt.subplot()\n",
    "ax2.scatter(redu[0], redu[1], s=1, marker=\"o\", color=\"black\", alpha=0.5)\n",
    "ax2.set_title(\"Reduction\")\n",
    "ax2.xaxis.set_minor_locator(matplotlib.ticker.AutoMinorLocator())\n",
    "# ax2.set_xticks(np.arange(0, np.min(redu[0]) + np.max(redu[0]), 0.5))\n",
    "ax2.yaxis.set_minor_locator(matplotlib.ticker.AutoMinorLocator())\n",
    "ax2.set_xlabel(r\"$q\\ (\\mathregular{\\AA}^{-1})$\")\n",
    "ax2.grid()\n",
    "ax2.set_ylabel(\"Intensity\")\n",
    "plt.savefig(\"reduction.png\", dpi=1000, bbox_inches=\"tight\")"
   ]
  }
 ],
 "metadata": {
  "language_info": {
   "name": "python"
  }
 },
 "nbformat": 4,
 "nbformat_minor": 2
}
