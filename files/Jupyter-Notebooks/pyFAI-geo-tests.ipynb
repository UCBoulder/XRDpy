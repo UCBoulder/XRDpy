{
 "cells": [
  {
   "cell_type": "code",
   "execution_count": 25,
   "metadata": {},
   "outputs": [],
   "source": [
    "%matplotlib widget\n",
    "#For documentation purpose, `inline` is used to enforce the storage of images into the notebook\n",
    "# %matplotlib inline\n",
    "\n",
    "import time\n",
    "start_time = time.perf_counter()\n",
    "from matplotlib.pyplot import subplots\n",
    "import matplotlib.pylab as plt\n",
    "import numpy as np\n",
    "import fabio"
   ]
  },
  {
   "cell_type": "code",
   "execution_count": null,
   "metadata": {},
   "outputs": [],
   "source": [
    "import pyFAI, pyFAI.detectors\n",
    "print(\"Using pyFAI version\", pyFAI.version)\n",
    "from pyFAI.gui import jupyter\n",
    "from pyFAI.calibrant import get_calibrant\n",
    "from pyFAI.azimuthalIntegrator import AzimuthalIntegrator"
   ]
  },
  {
   "cell_type": "code",
   "execution_count": 32,
   "metadata": {},
   "outputs": [],
   "source": [
    "wl = 1.54185e-10\n",
    "cal = get_calibrant(\"AgBh\")\n",
    "cal.wavelength=wl\n",
    "\n",
    "detector = pyFAI.detectors.Detector(100e-6, 100e-6)\n",
    "detector.max_shape=(1000,1000)\n",
    "\n",
    "timg = fabio.open(\"GIWAXS-1_3_1200-om0-5_AgBe-capillary_teddy.tif\").data\n",
    "\n",
    "ai = pyFAI.load(\"cal.poni\")"
   ]
  },
  {
   "cell_type": "code",
   "execution_count": null,
   "metadata": {},
   "outputs": [],
   "source": [
    "img = cal.fake_calibration_image(ai)\n",
    "jupyter.display(timg, label=\"Inital\")\n",
    "pass\n"
   ]
  },
  {
   "cell_type": "code",
   "execution_count": null,
   "metadata": {},
   "outputs": [],
   "source": [
    "p1 = 100e-6 * 1000 / 2\n",
    "print(\"poni1:\", p1)\n",
    "ai.poni1 = p1\n",
    "p2 = 100e-6 * 1000 / 2\n",
    "print(\"poni2:\", p2)\n",
    "ai.poni2 = p2\n",
    "ai.dist = 0.25\n",
    "img = cal.fake_calibration_image(ai)\n",
    "jupyter.display(img, label=\"set poni1\")\n",
    "pass\n",
    "plt.imshow(img)"
   ]
  },
  {
   "cell_type": "code",
   "execution_count": null,
   "metadata": {},
   "outputs": [],
   "source": []
  }
 ],
 "metadata": {
  "kernelspec": {
   "display_name": "xrd",
   "language": "python",
   "name": "python3"
  },
  "language_info": {
   "codemirror_mode": {
    "name": "ipython",
    "version": 3
   },
   "file_extension": ".py",
   "mimetype": "text/x-python",
   "name": "python",
   "nbconvert_exporter": "python",
   "pygments_lexer": "ipython3",
   "version": "3.11.7"
  }
 },
 "nbformat": 4,
 "nbformat_minor": 2
}
